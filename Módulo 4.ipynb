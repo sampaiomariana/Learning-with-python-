{
 "cells": [
  {
   "cell_type": "code",
   "execution_count": 1,
   "metadata": {},
   "outputs": [],
   "source": [
    "#POO\n",
    "\n",
    "#Classes são designs ou templates para instâncias \n",
    "\n",
    "class LibraryBook:\n",
    "    \"\"\"\n",
    "    A library book\n",
    "    \"\"\"\n",
    "    #Pass indica que o corpo da classe está vazio\n",
    "    pass"
   ]
  },
  {
   "cell_type": "code",
   "execution_count": 2,
   "metadata": {},
   "outputs": [
    {
     "data": {
      "text/plain": [
       "<__main__.LibraryBook at 0x2236aa48948>"
      ]
     },
     "execution_count": 2,
     "metadata": {},
     "output_type": "execute_result"
    }
   ],
   "source": [
    "#My_book como um objeto de LibraryBook\n",
    "my_book = LibraryBook()\n",
    "my_book"
   ]
  },
  {
   "cell_type": "code",
   "execution_count": 3,
   "metadata": {},
   "outputs": [
    {
     "data": {
      "text/plain": [
       "__main__.LibraryBook"
      ]
     },
     "execution_count": 3,
     "metadata": {},
     "output_type": "execute_result"
    }
   ],
   "source": [
    "type(my_book)"
   ]
  },
  {
   "cell_type": "code",
   "execution_count": 4,
   "metadata": {},
   "outputs": [
    {
     "data": {
      "text/plain": [
       "True"
      ]
     },
     "execution_count": 4,
     "metadata": {},
     "output_type": "execute_result"
    }
   ],
   "source": [
    "#Checando o tipo do objeto\n",
    "\n",
    "isinstance(my_book, LibraryBook)"
   ]
  },
  {
   "cell_type": "code",
   "execution_count": 5,
   "metadata": {},
   "outputs": [],
   "source": [
    "#Nessa classe foi instanciado novos objetos. \n",
    "#Quando a instância é iniciada é utilizado o init(self)\n",
    "class Librarybook (object):\n",
    "    def __init__(self, title,author,pub_year,call_no):\n",
    "        self.title = title\n",
    "        self.author =  author\n",
    "        self.year = pub_year\n",
    "        self.call_no = call_no\n",
    "        self.cheched_out = False"
   ]
  },
  {
   "cell_type": "code",
   "execution_count": 8,
   "metadata": {},
   "outputs": [
    {
     "data": {
      "text/plain": [
       "'PZ7.R79835'"
      ]
     },
     "execution_count": 8,
     "metadata": {},
     "output_type": "execute_result"
    }
   ],
   "source": [
    "#Pegamos o objeto que já foi criado e nele inserimos valores\n",
    "\n",
    "my_book.title = \"Harry Potter and the Philosopher's Stone\"\n",
    "my_book.author = ('Rowling', 'J.K.')\n",
    "my_book.year = 1998\n",
    "my_book.call_no =  \"PZ7.R79835\"\n",
    "\n",
    "#Para ver os valores que estão no objeto\n",
    "\n",
    "#my_book.title\n",
    "#my_book.author\n",
    "#my_book.year\n",
    "my_book.call_no"
   ]
  },
  {
   "cell_type": "code",
   "execution_count": 15,
   "metadata": {},
   "outputs": [
    {
     "data": {
      "text/plain": [
       "('Rowling', 'J.K.')"
      ]
     },
     "execution_count": 15,
     "metadata": {},
     "output_type": "execute_result"
    }
   ],
   "source": [
    "#Podemos passar todos os valores que estão na classe para um novo objeto\n",
    "\n",
    "new_book = Librarybook(\"Harry Potter and the Sorcerer's Stone\", \n",
    "                       (\"Rowling\",\"J.K.\"), 1998, \"PZ7.R79835\")\n",
    "\n",
    "new_book.author"
   ]
  },
  {
   "cell_type": "code",
   "execution_count": 16,
   "metadata": {},
   "outputs": [],
   "source": [
    "#Métodos\n",
    "#Ele contem a funcionalidade de um objeto\n",
    "\n",
    "class Librarybook (object):\n",
    "    def __init__(self, title,author,pub_year,call_no):\n",
    "        self.title = title\n",
    "        self.author =  author\n",
    "        self.year = pub_year\n",
    "        self.call_no = call_no\n",
    "        \n",
    "#Métodos\n",
    "\n",
    "def title_and_author(self):\n",
    "    return \"{} {}: {}\".format(self.author[1],self.author[0],self.title)\n",
    "#Printar a informação\n",
    "\n",
    "def __str__(self):\n",
    "    return \"{} {} ({}): {}\".format(self.author[1],self.author[0],self.year,self.title)\n",
    "\n",
    "def __repr__(self):\n",
    "    return \"<Book: {} ({})>\".format(self.title,self.call_no)\n"
   ]
  },
  {
   "cell_type": "code",
   "execution_count": 17,
   "metadata": {},
   "outputs": [
    {
     "data": {
      "text/plain": [
       "<__main__.Librarybook at 0x2236ab04948>"
      ]
     },
     "execution_count": 17,
     "metadata": {},
     "output_type": "execute_result"
    }
   ],
   "source": [
    "new_book"
   ]
  },
  {
   "cell_type": "code",
   "execution_count": 18,
   "metadata": {},
   "outputs": [
    {
     "name": "stdout",
     "output_type": "stream",
     "text": [
      "<__main__.Librarybook object at 0x000002236AB04948>\n"
     ]
    }
   ],
   "source": [
    "print(new_book)"
   ]
  },
  {
   "cell_type": "code",
   "execution_count": null,
   "metadata": {},
   "outputs": [],
   "source": [
    "new_book = Librarybook(\"Harry Potter and the Sorcerer's Stone\", \n",
    "                       (\"Rowling\",\"J.K.\"), 1998, \"PZ7.R79835\")\n",
    "\n",
    "new_book.title_and_author()"
   ]
  },
  {
   "cell_type": "code",
   "execution_count": 24,
   "metadata": {},
   "outputs": [],
   "source": [
    "#Herança \n",
    "\n",
    "class ClownFish(object):\n",
    "    pass\n",
    "nemo = ClownFish()\n"
   ]
  },
  {
   "cell_type": "code",
   "execution_count": 25,
   "metadata": {},
   "outputs": [
    {
     "data": {
      "text/plain": [
       "__main__.ClownFish"
      ]
     },
     "execution_count": 25,
     "metadata": {},
     "output_type": "execute_result"
    }
   ],
   "source": [
    "type(nemo)"
   ]
  },
  {
   "cell_type": "code",
   "execution_count": 26,
   "metadata": {},
   "outputs": [
    {
     "data": {
      "text/plain": [
       "True"
      ]
     },
     "execution_count": 26,
     "metadata": {},
     "output_type": "execute_result"
    }
   ],
   "source": [
    "isinstance(nemo,ClownFish)"
   ]
  },
  {
   "cell_type": "code",
   "execution_count": 27,
   "metadata": {},
   "outputs": [],
   "source": [
    "class Animal(object):\n",
    "    pass\n",
    "\n",
    "class Vertebrate(Animal):\n",
    "    pass\n",
    "\n",
    "class Fish(Vertebrate):\n",
    "    pass\n",
    "\n",
    "class ClownFish(Fish):\n",
    "    pass\n",
    "\n",
    "class TangFish(Fish):\n",
    "    pass\n"
   ]
  },
  {
   "cell_type": "code",
   "execution_count": 28,
   "metadata": {},
   "outputs": [],
   "source": [
    "nemo = ClownFish()"
   ]
  },
  {
   "cell_type": "code",
   "execution_count": 29,
   "metadata": {},
   "outputs": [
    {
     "data": {
      "text/plain": [
       "True"
      ]
     },
     "execution_count": 29,
     "metadata": {},
     "output_type": "execute_result"
    }
   ],
   "source": [
    "isinstance(nemo,ClownFish)"
   ]
  },
  {
   "cell_type": "code",
   "execution_count": 30,
   "metadata": {},
   "outputs": [
    {
     "data": {
      "text/plain": [
       "False"
      ]
     },
     "execution_count": 30,
     "metadata": {},
     "output_type": "execute_result"
    }
   ],
   "source": [
    "isinstance(nemo,TangFish)"
   ]
  },
  {
   "cell_type": "code",
   "execution_count": 31,
   "metadata": {},
   "outputs": [
    {
     "data": {
      "text/plain": [
       "True"
      ]
     },
     "execution_count": 31,
     "metadata": {},
     "output_type": "execute_result"
    }
   ],
   "source": [
    "isinstance(nemo,Animal)"
   ]
  },
  {
   "cell_type": "code",
   "execution_count": 32,
   "metadata": {},
   "outputs": [
    {
     "data": {
      "text/plain": [
       "True"
      ]
     },
     "execution_count": 32,
     "metadata": {},
     "output_type": "execute_result"
    }
   ],
   "source": [
    "isinstance(nemo,object)"
   ]
  },
  {
   "cell_type": "code",
   "execution_count": 34,
   "metadata": {},
   "outputs": [],
   "source": [
    "#Métodos de Herança \n",
    "\n",
    "class Fish(Animal):\n",
    "    def speak(self):\n",
    "        return \"Blub\"\n",
    "    \n",
    "class ClownFish(Fish):\n",
    "    pass\n",
    "\n",
    "class TangFish(Fish):\n",
    "    #É uma classe filha de Fish, logo ele consegue acessar the speak() pela classe Fish\n",
    "    pass"
   ]
  },
  {
   "cell_type": "code",
   "execution_count": 35,
   "metadata": {},
   "outputs": [],
   "source": [
    "dory = TangFish()"
   ]
  },
  {
   "cell_type": "code",
   "execution_count": 36,
   "metadata": {},
   "outputs": [
    {
     "data": {
      "text/plain": [
       "'Blub'"
      ]
     },
     "execution_count": 36,
     "metadata": {},
     "output_type": "execute_result"
    }
   ],
   "source": [
    "dory.speak()"
   ]
  },
  {
   "cell_type": "code",
   "execution_count": 37,
   "metadata": {},
   "outputs": [],
   "source": [
    "# O mesmo ocorre para clownfish\n",
    "\n",
    "nemo = ClownFish()"
   ]
  },
  {
   "cell_type": "code",
   "execution_count": 38,
   "metadata": {},
   "outputs": [
    {
     "data": {
      "text/plain": [
       "'Blub'"
      ]
     },
     "execution_count": 38,
     "metadata": {},
     "output_type": "execute_result"
    }
   ],
   "source": [
    "nemo.speak()"
   ]
  },
  {
   "cell_type": "code",
   "execution_count": 39,
   "metadata": {},
   "outputs": [],
   "source": [
    "#Se quisermos mudar qual será a saída\n",
    "\n",
    "class TangFish(Fish):\n",
    "    def speak(self):\n",
    "        return \"Hello!\""
   ]
  },
  {
   "cell_type": "code",
   "execution_count": 41,
   "metadata": {},
   "outputs": [],
   "source": [
    "dory = TangFish()"
   ]
  },
  {
   "cell_type": "code",
   "execution_count": 42,
   "metadata": {},
   "outputs": [
    {
     "data": {
      "text/plain": [
       "'Hello!'"
      ]
     },
     "execution_count": 42,
     "metadata": {},
     "output_type": "execute_result"
    }
   ],
   "source": [
    "dory.speak()"
   ]
  },
  {
   "cell_type": "code",
   "execution_count": 43,
   "metadata": {},
   "outputs": [],
   "source": [
    "nemo = ClownFish()"
   ]
  },
  {
   "cell_type": "code",
   "execution_count": 44,
   "metadata": {},
   "outputs": [
    {
     "data": {
      "text/plain": [
       "'Blub'"
      ]
     },
     "execution_count": 44,
     "metadata": {},
     "output_type": "execute_result"
    }
   ],
   "source": [
    "nemo.speak()"
   ]
  },
  {
   "cell_type": "code",
   "execution_count": 49,
   "metadata": {},
   "outputs": [],
   "source": [
    "#Reescrevendo a class ClownFish\n",
    "\n",
    "class ClownFish(Fish):\n",
    "    def __init__(self,name):\n",
    "        self.name = name\n",
    "    def __str__(self):\n",
    "        return \"A ClownFish named \" +self.name"
   ]
  },
  {
   "cell_type": "code",
   "execution_count": 50,
   "metadata": {},
   "outputs": [
    {
     "name": "stdout",
     "output_type": "stream",
     "text": [
      "A ClownFish named Nemo\n"
     ]
    }
   ],
   "source": [
    "nemo = ClownFish('Nemo')\n",
    "\n",
    "print(nemo)"
   ]
  },
  {
   "cell_type": "code",
   "execution_count": 52,
   "metadata": {},
   "outputs": [],
   "source": [
    "#Acessando a variável via a instância \n",
    "\n",
    "class Fish(Vertebrate):\n",
    "    def __str__(self):\n",
    "        return \"Hello, my name is {} \".format(self.name)\n",
    "    \n",
    "class ClownFish(Fish):\n",
    "    def __init__(self,name):\n",
    "        self.name = name"
   ]
  },
  {
   "cell_type": "code",
   "execution_count": 53,
   "metadata": {},
   "outputs": [],
   "source": [
    "nemo = ClownFish('nemo')"
   ]
  },
  {
   "cell_type": "code",
   "execution_count": 54,
   "metadata": {},
   "outputs": [
    {
     "name": "stdout",
     "output_type": "stream",
     "text": [
      "Hello, my name is nemo \n"
     ]
    }
   ],
   "source": [
    "print(nemo)"
   ]
  },
  {
   "cell_type": "code",
   "execution_count": 55,
   "metadata": {},
   "outputs": [],
   "source": [
    "nemo = Fish()"
   ]
  },
  {
   "cell_type": "code",
   "execution_count": 56,
   "metadata": {},
   "outputs": [
    {
     "ename": "AttributeError",
     "evalue": "'Fish' object has no attribute 'name'",
     "output_type": "error",
     "traceback": [
      "\u001b[1;31m---------------------------------------------------------------------------\u001b[0m",
      "\u001b[1;31mAttributeError\u001b[0m                            Traceback (most recent call last)",
      "\u001b[1;32m<ipython-input-56-65a19f6b9e0a>\u001b[0m in \u001b[0;36m<module>\u001b[1;34m\u001b[0m\n\u001b[1;32m----> 1\u001b[1;33m \u001b[0mprint\u001b[0m\u001b[1;33m(\u001b[0m\u001b[0mnemo\u001b[0m\u001b[1;33m)\u001b[0m\u001b[1;33m\u001b[0m\u001b[1;33m\u001b[0m\u001b[0m\n\u001b[0m",
      "\u001b[1;32m<ipython-input-52-ef48f75950f6>\u001b[0m in \u001b[0;36m__str__\u001b[1;34m(self)\u001b[0m\n\u001b[0;32m      3\u001b[0m \u001b[1;32mclass\u001b[0m \u001b[0mFish\u001b[0m\u001b[1;33m(\u001b[0m\u001b[0mVertebrate\u001b[0m\u001b[1;33m)\u001b[0m\u001b[1;33m:\u001b[0m\u001b[1;33m\u001b[0m\u001b[1;33m\u001b[0m\u001b[0m\n\u001b[0;32m      4\u001b[0m     \u001b[1;32mdef\u001b[0m \u001b[0m__str__\u001b[0m\u001b[1;33m(\u001b[0m\u001b[0mself\u001b[0m\u001b[1;33m)\u001b[0m\u001b[1;33m:\u001b[0m\u001b[1;33m\u001b[0m\u001b[1;33m\u001b[0m\u001b[0m\n\u001b[1;32m----> 5\u001b[1;33m         \u001b[1;32mreturn\u001b[0m \u001b[1;34m\"Hello, my name is {} \"\u001b[0m\u001b[1;33m.\u001b[0m\u001b[0mformat\u001b[0m\u001b[1;33m(\u001b[0m\u001b[0mself\u001b[0m\u001b[1;33m.\u001b[0m\u001b[0mname\u001b[0m\u001b[1;33m)\u001b[0m\u001b[1;33m\u001b[0m\u001b[1;33m\u001b[0m\u001b[0m\n\u001b[0m\u001b[0;32m      6\u001b[0m \u001b[1;33m\u001b[0m\u001b[0m\n\u001b[0;32m      7\u001b[0m \u001b[1;32mclass\u001b[0m \u001b[0mClownFish\u001b[0m\u001b[1;33m(\u001b[0m\u001b[0mFish\u001b[0m\u001b[1;33m)\u001b[0m\u001b[1;33m:\u001b[0m\u001b[1;33m\u001b[0m\u001b[1;33m\u001b[0m\u001b[0m\n",
      "\u001b[1;31mAttributeError\u001b[0m: 'Fish' object has no attribute 'name'"
     ]
    }
   ],
   "source": [
    "#Nesse caso ele possui esse erro pois a classe de Fish() não possui a mesma saída que ClownFish()\n",
    "print(nemo)"
   ]
  },
  {
   "cell_type": "code",
   "execution_count": 57,
   "metadata": {},
   "outputs": [],
   "source": [
    "class Fish(Vertebrate):\n",
    "    def __init__(self,name):\n",
    "        self.name = name\n",
    "        \n",
    "    def __str__(self):\n",
    "        return \"Hello, my name is {}\".format(self.name)\n",
    "class ClownFish(Fish):\n",
    "    def __init__ (self,name):\n",
    "        self.name = name"
   ]
  },
  {
   "cell_type": "code",
   "execution_count": 58,
   "metadata": {},
   "outputs": [
    {
     "name": "stdout",
     "output_type": "stream",
     "text": [
      "Hello, my name is nemo\n"
     ]
    }
   ],
   "source": [
    "nemo = ClownFish(\"nemo\")\n",
    "# __str__() is accessing the self.name from the child level\n",
    "print(nemo)"
   ]
  },
  {
   "cell_type": "code",
   "execution_count": 59,
   "metadata": {},
   "outputs": [
    {
     "name": "stdout",
     "output_type": "stream",
     "text": [
      "Hello, my name is dory\n"
     ]
    }
   ],
   "source": [
    "dory = Fish(\"dory\")\n",
    "\n",
    "# __str__ ia accessing the self.name attribute from Fish class\n",
    "print(dory)"
   ]
  },
  {
   "cell_type": "code",
   "execution_count": null,
   "metadata": {},
   "outputs": [],
   "source": []
  }
 ],
 "metadata": {
  "kernelspec": {
   "display_name": "Python 3",
   "language": "python",
   "name": "python3"
  },
  "language_info": {
   "codemirror_mode": {
    "name": "ipython",
    "version": 3
   },
   "file_extension": ".py",
   "mimetype": "text/x-python",
   "name": "python",
   "nbconvert_exporter": "python",
   "pygments_lexer": "ipython3",
   "version": "3.7.6"
  }
 },
 "nbformat": 4,
 "nbformat_minor": 4
}
