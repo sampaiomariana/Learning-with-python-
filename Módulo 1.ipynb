{
 "cells": [
  {
   "cell_type": "code",
   "execution_count": 2,
   "metadata": {},
   "outputs": [],
   "source": [
    "#Para declaração dae variavéis , basta declarar normalmente, caso seja string ou int.\n",
    "\n",
    "#string\n",
    "helloMessage = 'Hello world!'\n",
    "#char \n",
    "character = 'a'\n",
    "#float\n",
    "number = 1.5\n",
    "#int\n",
    "numero = 1\n",
    "#booleano\n",
    "#True or False\n",
    "bool_condition =  True\n",
    "\n"
   ]
  },
  {
   "cell_type": "code",
   "execution_count": 7,
   "metadata": {},
   "outputs": [
    {
     "data": {
      "text/plain": [
       "True"
      ]
     },
     "execution_count": 7,
     "metadata": {},
     "output_type": "execute_result"
    }
   ],
   "source": [
    "#As saídas devem ser 'Hello world!','a',1.5,1,True\n",
    "\n",
    "#helloMessage\n",
    "#character\n",
    "#number\n",
    "bool_condition"
   ]
  },
  {
   "cell_type": "code",
   "execution_count": 9,
   "metadata": {},
   "outputs": [
    {
     "data": {
      "text/plain": [
       "int"
      ]
     },
     "execution_count": 9,
     "metadata": {},
     "output_type": "execute_result"
    }
   ],
   "source": [
    "#Para converter tipos de declarações\n",
    "#Converter float em int \n",
    "#Verificar o tipo da variável\n",
    "\n",
    "number_two = 10\n",
    "type(number_two)\n"
   ]
  },
  {
   "cell_type": "code",
   "execution_count": 11,
   "metadata": {},
   "outputs": [
    {
     "data": {
      "text/plain": [
       "float"
      ]
     },
     "execution_count": 11,
     "metadata": {},
     "output_type": "execute_result"
    }
   ],
   "source": [
    "#Conversão de int para float\n",
    "\n",
    "number_two_float = float(number_two)\n",
    "type(number_two_float)"
   ]
  },
  {
   "cell_type": "code",
   "execution_count": 13,
   "metadata": {},
   "outputs": [
    {
     "data": {
      "text/plain": [
       "int"
      ]
     },
     "execution_count": 13,
     "metadata": {},
     "output_type": "execute_result"
    }
   ],
   "source": [
    "#Conversão de float para int \n",
    "\n",
    "number_two_int = int(number_two_float)\n",
    "type(number_two_int)"
   ]
  },
  {
   "cell_type": "code",
   "execution_count": 14,
   "metadata": {},
   "outputs": [
    {
     "data": {
      "text/plain": [
       "str"
      ]
     },
     "execution_count": 14,
     "metadata": {},
     "output_type": "execute_result"
    }
   ],
   "source": [
    "#Conversão de int para string \n",
    "\n",
    "number_two_string = str(number_two)\n",
    "type(number_two_string)"
   ]
  },
  {
   "cell_type": "code",
   "execution_count": 15,
   "metadata": {},
   "outputs": [
    {
     "data": {
      "text/plain": [
       "int"
      ]
     },
     "execution_count": 15,
     "metadata": {},
     "output_type": "execute_result"
    }
   ],
   "source": [
    "#Conversão de string para int\n",
    "type(int(number_two_string))"
   ]
  },
  {
   "cell_type": "code",
   "execution_count": 16,
   "metadata": {},
   "outputs": [
    {
     "name": "stdout",
     "output_type": "stream",
     "text": [
      "255\n",
      "-245\n",
      "1250\n",
      "25\n",
      "9.0\n",
      "1\n",
      "1\n"
     ]
    }
   ],
   "source": [
    "#Operações matemáticas\n",
    "\n",
    "#Soma \n",
    "print(5+250)\n",
    "\n",
    "#Subtração \n",
    "print(5-250)\n",
    "\n",
    "#Multiplicação\n",
    "print(5*250)\n",
    "\n",
    "#Expoente\n",
    "print(5**2)\n",
    "\n",
    "#Divisão de float \n",
    "print(36/4)\n",
    "\n",
    "#Divisão de inteiro \n",
    "print(250//250)\n",
    "\n",
    "#Resto da divisão\n",
    "print(10%3)"
   ]
  },
  {
   "cell_type": "code",
   "execution_count": 17,
   "metadata": {},
   "outputs": [
    {
     "name": "stdout",
     "output_type": "stream",
     "text": [
      "y eh o dobro de x\n"
     ]
    }
   ],
   "source": [
    "#Condicionais \n",
    "#else if é if elif\n",
    "\n",
    "#Exemplo, se x = 7 e y = 14\n",
    "\n",
    "x = 7\n",
    "y = 14\n",
    "\n",
    "if (2*x == y):\n",
    "    print(\"y eh o dobro de x\")\n",
    "elif (x**2 == y):\n",
    "    print(\"y eh o quadrado de x\")\n",
    "else:\n",
    "    print(\"y não eh relacionado ao x\")\n",
    "\n"
   ]
  },
  {
   "cell_type": "code",
   "execution_count": 20,
   "metadata": {},
   "outputs": [
    {
     "name": "stdout",
     "output_type": "stream",
     "text": [
      "Digite um número de 0-20\n"
     ]
    },
    {
     "data": {
      "text/plain": [
       "'Entered 0'"
      ]
     },
     "execution_count": 20,
     "metadata": {},
     "output_type": "execute_result"
    }
   ],
   "source": [
    "#Caso com switcher\n",
    "\n",
    "def switcher (number):\n",
    "    return {\n",
    "    '0': \"Entered 0\",\n",
    "    '1': \"Entered 1\",\n",
    "    '2': \"Entered 2\",\n",
    "    } .get(number,\"Invalid number. Try again.\")\n",
    "\n",
    "#Lê o valor de entrada do usuário\n",
    "\n",
    "number = input(\"Digite um número de 0-2\")\n",
    "switcher(number)"
   ]
  },
  {
   "cell_type": "code",
   "execution_count": 25,
   "metadata": {},
   "outputs": [
    {
     "name": "stdout",
     "output_type": "stream",
     "text": [
      "Digite um número de 0-20\n",
      "Entered 0\n"
     ]
    }
   ],
   "source": [
    "#Prática do módulo\n",
    "#Construir um switcher utilizando if e else\n",
    "#Observação: Cuidado com o uso de espaços\n",
    "\n",
    "number = input(\"Digite um número de 0-2\")\n",
    "if number == '0':\n",
    "    print(\"Entered 0\")\n",
    "elif number == '1':\n",
    "    print(\"Entered 1\")\n",
    "elif number == '2':\n",
    "    print(\"Entered 2\")\n",
    "else:\n",
    "    print(\"Invalid number. Try again\")"
   ]
  },
  {
   "cell_type": "code",
   "execution_count": null,
   "metadata": {},
   "outputs": [],
   "source": []
  },
  {
   "cell_type": "code",
   "execution_count": null,
   "metadata": {},
   "outputs": [],
   "source": []
  }
 ],
 "metadata": {
  "kernelspec": {
   "display_name": "Python 3",
   "language": "python",
   "name": "python3"
  },
  "language_info": {
   "codemirror_mode": {
    "name": "ipython",
    "version": 3
   },
   "file_extension": ".py",
   "mimetype": "text/x-python",
   "name": "python",
   "nbconvert_exporter": "python",
   "pygments_lexer": "ipython3",
   "version": "3.7.6"
  }
 },
 "nbformat": 4,
 "nbformat_minor": 4
}
