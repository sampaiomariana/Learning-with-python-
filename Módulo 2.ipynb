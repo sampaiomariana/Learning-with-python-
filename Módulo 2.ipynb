{
 "cells": [
  {
   "cell_type": "code",
   "execution_count": null,
   "metadata": {},
   "outputs": [],
   "source": [
    "#Uso de Loops e Funções \n",
    "\n",
    "#Loops \n",
    "#uso de for\n",
    "\n",
    "for i in range(10):\n",
    "    print(i)"
   ]
  },
  {
   "cell_type": "code",
   "execution_count": null,
   "metadata": {},
   "outputs": [],
   "source": [
    "for x in range(2,10):\n",
    "    print(i)"
   ]
  },
  {
   "cell_type": "code",
   "execution_count": null,
   "metadata": {},
   "outputs": [],
   "source": [
    "for i in range(0,10,3):\n",
    " print(i)"
   ]
  },
  {
   "cell_type": "code",
   "execution_count": null,
   "metadata": {},
   "outputs": [],
   "source": [
    "for i in \"hello\":\n",
    "    print(i)"
   ]
  },
  {
   "cell_type": "code",
   "execution_count": null,
   "metadata": {},
   "outputs": [],
   "source": [
    "string = \"hello world\"\n",
    "for i in range(0,len(string),1):\n",
    "    print(str(i) + \"the letter is \" + string[i])"
   ]
  },
  {
   "cell_type": "code",
   "execution_count": null,
   "metadata": {},
   "outputs": [],
   "source": [
    "#Uso de while \n",
    "\n",
    "count = 0\n",
    "\n",
    "while (count < 10):\n",
    "    print(count)\n",
    "    #Para atualizar o contador\n",
    "    count +=1"
   ]
  },
  {
   "cell_type": "code",
   "execution_count": null,
   "metadata": {},
   "outputs": [],
   "source": [
    "#Usando while \n",
    "end = False \n",
    "\n",
    "while end == False:\n",
    "    user = input(\"Enter something:\")\n",
    "    if user == \"end\":\n",
    "        print(\"Finish the program\")\n",
    "        end = True\n",
    "    else:\n",
    "            print(user)"
   ]
  },
  {
   "cell_type": "code",
   "execution_count": null,
   "metadata": {},
   "outputs": [],
   "source": [
    "#Programa que retira os valores que são multiplos de 5\n",
    "#O uso do break não é considerado pois queremos continuar o loop\n",
    "\n",
    "count = 1\n",
    "\n",
    "while count + 1 <= 20:\n",
    "    if count % 5 == 0:\n",
    "        print(\"SKIP\")\n",
    "        count +=1\n",
    "        continue\n",
    "        print(count)\n",
    "        count+=1"
   ]
  },
  {
   "cell_type": "code",
   "execution_count": null,
   "metadata": {},
   "outputs": [],
   "source": [
    "#Funções \n",
    "#Função do triângulo\n",
    "\n",
    "def isRightTriangle(a,b,c):\n",
    "    if(max(a,b,c) != c):\n",
    "        tmp = c\n",
    "        c = max(a,b,c)\n",
    "        if a ==c:\n",
    "            a = tmp\n",
    "        elif b == c\n",
    "            b = tmp\n",
    "if a**2 + b**2 == c**2:\n",
    "    print(\"Right Triangle\")\n",
    "    return True\n",
    "print(\"NOT Right Triangle\")\n",
    "    return False\n",
    "\n",
    "def main ():\n",
    "    a = input (\"Enter the length for the first edge of the traingle:\")\n",
    "    b = input (\"Enter the length for the second edge of the traingle:\")\n",
    "    c = input (\"Enter the length for the last edge of the traingle:\")\n",
    "    \n",
    "    return isRightTriangle(int(a), int(b), int(c))\n",
    "\n",
    "if __name__ == \"__main__\":\n",
    "    main()"
   ]
  },
  {
   "cell_type": "code",
   "execution_count": null,
   "metadata": {},
   "outputs": [],
   "source": []
  },
  {
   "cell_type": "code",
   "execution_count": null,
   "metadata": {},
   "outputs": [],
   "source": []
  }
 ],
 "metadata": {
  "kernelspec": {
   "display_name": "Python 3",
   "language": "python",
   "name": "python3"
  },
  "language_info": {
   "codemirror_mode": {
    "name": "ipython",
    "version": 3
   },
   "file_extension": ".py",
   "mimetype": "text/x-python",
   "name": "python",
   "nbconvert_exporter": "python",
   "pygments_lexer": "ipython3",
   "version": "3.7.6"
  }
 },
 "nbformat": 4,
 "nbformat_minor": 4
}
